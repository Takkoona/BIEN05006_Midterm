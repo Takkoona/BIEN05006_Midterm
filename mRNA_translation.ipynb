{
 "cells": [
  {
   "cell_type": "code",
   "execution_count": 1,
   "metadata": {},
   "outputs": [],
   "source": [
    "import os\n",
    "import json\n",
    "\n",
    "from Bio import SeqIO\n",
    "from Bio.SeqRecord import SeqRecord\n",
    "from Bio import Entrez\n",
    "\n",
    "Entrez.email = \"417454220@qq.com\"\n",
    "datapath = \"Data\""
   ]
  },
  {
   "cell_type": "code",
   "execution_count": 2,
   "metadata": {},
   "outputs": [
    {
     "name": "stderr",
     "output_type": "stream",
     "text": [
      "c:\\users\\chengyang ji\\appdata\\local\\programs\\python\\python35\\lib\\site-packages\\Bio\\Seq.py:2748: BiopythonWarning: Partial codon, len(sequence) not a multiple of three. Explicitly trim the sequence or add trailing N before translation. This may become an error in future.\n",
      "  BiopythonWarning)\n"
     ]
    },
    {
     "data": {
      "text/plain": [
       "30"
      ]
     },
     "execution_count": 2,
     "metadata": {},
     "output_type": "execute_result"
    }
   ],
   "source": [
    "translated = []\n",
    "startcodon = \"ATG\"\n",
    "\n",
    "for record in SeqIO.parse(os.path.join(datapath, \"HSP90AA1.fasta\"), \"fasta\"):\n",
    "    seqstr = str(record.seq)\n",
    "    longestSeq = None\n",
    "    for n in range(len(seqstr)):\n",
    "        codon = seqstr[n:n+3]\n",
    "        if codon == startcodon:\n",
    "            newSeq = record.seq[n:].translate(to_stop=True)\n",
    "            if longestSeq is None:\n",
    "                longestSeq = newSeq\n",
    "            elif len(longestSeq) < len(newSeq):\n",
    "                longestSeq = newSeq\n",
    "    translated.append(SeqRecord(\n",
    "        longestSeq,\n",
    "        id=record.id,\n",
    "        description=record.description\n",
    "    ))\n",
    "    \n",
    "SeqIO.write(\n",
    "    sequences=translated,\n",
    "    handle=os.path.join(datapath, \"HSP90AA1_translated.fasta\"),\n",
    "    format=\"fasta\"\n",
    ")"
   ]
  },
  {
   "cell_type": "code",
   "execution_count": 10,
   "metadata": {
    "scrolled": false
   },
   "outputs": [],
   "source": [
    "species = {}\n",
    "\n",
    "for record in translated:\n",
    "    seqID = record.id\n",
    "    handle = Entrez.efetch(db=\"nucleotide\", id=seqID, retmode=\"xml\")\n",
    "    (record,) = Entrez.read(handle)\n",
    "    species[seqID] = record[\"GBSeq_source\"]"
   ]
  },
  {
   "cell_type": "code",
   "execution_count": 13,
   "metadata": {},
   "outputs": [],
   "source": [
    "with open(os.path.join(datapath, \"seqID2species.json\"), 'w') as f:\n",
    "    json.dump(species, f, indent=2)"
   ]
  }
 ],
 "metadata": {
  "kernelspec": {
   "display_name": "Python 3",
   "language": "python",
   "name": "python3"
  },
  "language_info": {
   "codemirror_mode": {
    "name": "ipython",
    "version": 3
   },
   "file_extension": ".py",
   "mimetype": "text/x-python",
   "name": "python",
   "nbconvert_exporter": "python",
   "pygments_lexer": "ipython3",
   "version": "3.5.3"
  }
 },
 "nbformat": 4,
 "nbformat_minor": 2
}
