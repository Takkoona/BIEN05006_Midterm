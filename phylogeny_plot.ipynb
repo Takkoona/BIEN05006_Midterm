{
 "cells": [
  {
   "cell_type": "code",
   "execution_count": 1,
   "metadata": {},
   "outputs": [],
   "source": [
    "library(ape)\n",
    "library(jsonlite)\n",
    "\n",
    "datapath <- \"Data\"\n",
    "figurepath <- \"Figures\""
   ]
  },
  {
   "cell_type": "code",
   "execution_count": 2,
   "metadata": {},
   "outputs": [],
   "source": [
    "seqID2species <- read_json(file.path(datapath, \"seqID2species.json\"))\n",
    "seqID2species <- sapply(seqID2species, function(s) {\n",
    "    gsub(\"\\\\([^()]*\\\\)\", \"\", s)\n",
    "})"
   ]
  },
  {
   "cell_type": "code",
   "execution_count": 3,
   "metadata": {},
   "outputs": [],
   "source": [
    "njtree <- read.tree(file.path(datapath, \"alignment_mafft-BioNJ_tree\"))\n",
    "njtree <- ladderize(njtree, right = FALSE)\n",
    "njtree[[\"tip.label\"]] <- seqID2species[njtree[[\"tip.label\"]]]\n",
    "\n",
    "mltree <- read.tree(file.path(datapath, \"alignment_mafft-PhyML_tree\"))\n",
    "mltree <- ladderize(mltree, right = FALSE)\n",
    "mltree[[\"tip.label\"]] <- seqID2species[mltree[[\"tip.label\"]]]"
   ]
  },
  {
   "cell_type": "code",
   "execution_count": 4,
   "metadata": {},
   "outputs": [],
   "source": [
    "svg(filename = file.path(figurepath, \"nj.svg\"), bg = \"transparent\")\n",
    "plot(\n",
    "    ladderize(njtree, right = FALSE),\n",
    "    main = \"Neighbour Join\",\n",
    "    align.tip.label = TRUE,\n",
    "    edge.width = 2\n",
    ")\n",
    "invisible(dev.off())"
   ]
  },
  {
   "cell_type": "code",
   "execution_count": 5,
   "metadata": {},
   "outputs": [],
   "source": [
    "svg(filename = file.path(figurepath, \"ml.svg\"), bg = \"transparent\")\n",
    "plot(\n",
    "    ladderize(mltree, right = FALSE),\n",
    "    main = \"Maximum Likelihood\",\n",
    "    align.tip.label = TRUE,\n",
    "    edge.width = 2\n",
    ")\n",
    "invisible(dev.off())"
   ]
  }
 ],
 "metadata": {
  "kernelspec": {
   "display_name": "R",
   "language": "R",
   "name": "ir"
  },
  "language_info": {
   "codemirror_mode": "r",
   "file_extension": ".r",
   "mimetype": "text/x-r-source",
   "name": "R",
   "pygments_lexer": "r",
   "version": "3.6.1"
  }
 },
 "nbformat": 4,
 "nbformat_minor": 2
}
